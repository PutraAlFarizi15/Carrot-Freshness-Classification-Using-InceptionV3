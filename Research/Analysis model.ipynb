{
 "cells": [
  {
   "cell_type": "markdown",
   "metadata": {
    "id": "dOKqLld7Ock1"
   },
   "source": [
    "## LOAD DATASET"
   ]
  },
  {
   "cell_type": "code",
   "execution_count": 1,
   "metadata": {
    "id": "GfEH6yw8EfyL"
   },
   "outputs": [],
   "source": [
    "train_dir = 'Carrot Data/train/'\n",
    "validation_dir = 'Carrot Data/validation/'"
   ]
  },
  {
   "cell_type": "code",
   "execution_count": 2,
   "metadata": {
    "id": "IQMgerV5EtoJ"
   },
   "outputs": [],
   "source": [
    "train_fresh = train_dir + 'Fresh'\n",
    "train_rotten = train_dir + 'Rotten'\n",
    "validation_fresh = validation_dir + 'Fresh'\n",
    "validation_rotten = validation_dir + 'Rotten'"
   ]
  },
  {
   "cell_type": "code",
   "execution_count": 3,
   "metadata": {
    "id": "ruo-B_OYinv8"
   },
   "outputs": [],
   "source": [
    "import os\n",
    "train_fresh_names = os.listdir(train_fresh)\n",
    "train_rotten_names = os.listdir(train_rotten)\n",
    "validation_fresh_names = os.listdir(validation_fresh)\n",
    "validation_rotten_names = os.listdir(validation_rotten)\n"
   ]
  },
  {
   "cell_type": "code",
   "execution_count": 4,
   "metadata": {
    "colab": {
     "base_uri": "https://localhost:8080/"
    },
    "id": "Gmcl2rMikg3O",
    "outputId": "5cb42830-2392-4661-e8df-29e09488f00b"
   },
   "outputs": [
    {
     "name": "stdout",
     "output_type": "stream",
     "text": [
      "496\n",
      "464\n",
      "124\n",
      "116\n"
     ]
    }
   ],
   "source": [
    "print(len(train_fresh_names))\n",
    "print(len(train_rotten_names))\n",
    "print(len(validation_fresh_names))\n",
    "print(len(validation_rotten_names))"
   ]
  },
  {
   "cell_type": "markdown",
   "metadata": {
    "id": "Ivz_N8dergoJ"
   },
   "source": [
    "## PREPROCESSING DATASET"
   ]
  },
  {
   "cell_type": "code",
   "execution_count": 5,
   "metadata": {},
   "outputs": [],
   "source": [
    "import numpy as np\n",
    "import matplotlib.pyplot as plt\n",
    "import tensorflow as tf\n",
    "#import pandas as pd\n",
    "import tensorflow.keras\n",
    "from tensorflow.keras.layers import Dense, Flatten, Dropout, MaxPool2D\n",
    "from tensorflow.keras.models import Model\n",
    "from tensorflow.keras.applications.inception_v3 import InceptionV3, preprocess_input\n",
    "from tensorflow.keras.preprocessing.image import ImageDataGenerator, load_img, img_to_array"
   ]
  },
  {
   "cell_type": "code",
   "execution_count": 6,
   "metadata": {
    "colab": {
     "base_uri": "https://localhost:8080/"
    },
    "id": "74l8p1ymr9ja",
    "outputId": "92f58186-ed38-4f03-a4b3-1ce560e93963"
   },
   "outputs": [
    {
     "name": "stdout",
     "output_type": "stream",
     "text": [
      "Found 240 images belonging to 2 classes.\n"
     ]
    }
   ],
   "source": [
    "validation_datagen = ImageDataGenerator(rescale=1./255)\n",
    "validation_data = validation_datagen.flow_from_directory(\n",
    "    validation_dir,\n",
    "    class_mode='categorical',\n",
    "    target_size=(256, 256),\n",
    "    batch_size=16,\n",
    "    shuffle=False\n",
    ")"
   ]
  },
  {
   "cell_type": "code",
   "execution_count": 7,
   "metadata": {
    "colab": {
     "base_uri": "https://localhost:8080/"
    },
    "id": "gzGveRYFr_-q",
    "outputId": "93b33da5-42b7-4bd6-9d1d-46a27d65cfb1"
   },
   "outputs": [
    {
     "data": {
      "text/plain": [
       "{'Fresh': 0, 'Rotten': 1}"
      ]
     },
     "execution_count": 7,
     "metadata": {},
     "output_type": "execute_result"
    }
   ],
   "source": [
    "validation_data.class_indices"
   ]
  },
  {
   "cell_type": "markdown",
   "metadata": {
    "id": "Uyq3OzOmk7GU"
   },
   "source": [
    "## BUILDING THE MODEL"
   ]
  },
  {
   "cell_type": "code",
   "execution_count": 8,
   "metadata": {},
   "outputs": [],
   "source": [
    "from keras.models import load_model\n",
    "\n",
    "model = load_model('Model/dropout/do20%.h5')"
   ]
  },
  {
   "cell_type": "markdown",
   "metadata": {
    "id": "wBJjJiHCkZ4R"
   },
   "source": [
    "## EVALUATE MODEL"
   ]
  },
  {
   "cell_type": "code",
   "execution_count": 9,
   "metadata": {
    "colab": {
     "base_uri": "https://localhost:8080/"
    },
    "id": "Y8AgZgyrlA-f",
    "outputId": "2f0b46df-5447-415e-b8a5-18f5ea150f5f"
   },
   "outputs": [
    {
     "name": "stdout",
     "output_type": "stream",
     "text": [
      "15/15 [==============================] - 11s 652ms/step\n"
     ]
    },
    {
     "data": {
      "text/plain": [
       "array([[118,   6],\n",
       "       [  8, 108]], dtype=int64)"
      ]
     },
     "execution_count": 9,
     "metadata": {},
     "output_type": "execute_result"
    }
   ],
   "source": [
    "import matplotlib.pyplot as plt\n",
    "#import numpy\n",
    "#from sklearn import metrics\n",
    "from sklearn.metrics import confusion_matrix, ConfusionMatrixDisplay\n",
    "\n",
    "# Predict labels for test data\n",
    "y_pred = model.predict(validation_data).argmax(axis=1)  # Predicted labels\n",
    "y_true = validation_data.classes  # Ground truth labels\n",
    "\n",
    "cm = confusion_matrix(y_true, y_pred)\n",
    "\n",
    "cm"
   ]
  },
  {
   "cell_type": "code",
   "execution_count": 10,
   "metadata": {
    "colab": {
     "base_uri": "https://localhost:8080/",
     "height": 455
    },
    "id": "YwOfaO1jm8YT",
    "outputId": "33d948a2-b026-48ee-c54d-f013bcf6ffed"
   },
   "outputs": [
    {
     "data": {
      "image/png": "[encoded data removed]",
      "text/plain": [
       "<Figure size 640x480 with 2 Axes>"
      ]
     },
     "metadata": {},
     "output_type": "display_data"
    }
   ],
   "source": [
    "cm_display = ConfusionMatrixDisplay(confusion_matrix = cm, display_labels = ['Negative', 'Positive'])\n",
    "\n",
    "cm_display.plot()\n",
    "plt.show()"
   ]
  },
  {
   "cell_type": "code",
   "execution_count": 11,
   "metadata": {
    "colab": {
     "base_uri": "https://localhost:8080/"
    },
    "id": "CfTlCTCAoVZp",
    "outputId": "5e2fe2a9-9f74-40ae-c515-643b58b9e764"
   },
   "outputs": [
    {
     "name": "stdout",
     "output_type": "stream",
     "text": [
      "Accuracy: 0.9417\n",
      "Precision: 0.9474\n",
      "Recall: 0.9310\n",
      "F1-Score: 0.9391\n"
     ]
    }
   ],
   "source": [
    "def evaluate_model(cm):\n",
    "  tp = cm[1][1]\n",
    "  fn = cm[1][0]\n",
    "  fp = cm[0][1]\n",
    "  tn = cm[0][0]\n",
    "\n",
    "  accuracy = (tp+tn)/(tp+fn+fp+tn)\n",
    "  precision = tp/(tp+fp)\n",
    "  recall = tp/(tp+fn)\n",
    "  specificity = tn/(tn+fp)\n",
    "  f1_score = (2*precision*recall)/(precision+recall)\n",
    "\n",
    "  return accuracy, precision, recall, specificity, f1_score\n",
    "\n",
    "accuracy, precision, recall, specificity, f1_score = evaluate_model(cm)\n",
    "print(\"Accuracy: {:.4f}\".format(accuracy))\n",
    "print(\"Precision: {:.4f}\".format(precision))\n",
    "print(\"Recall: {:.4f}\".format(recall))\n",
    "#print(\"Specificity: {:.2f}\".format(specificity))\n",
    "print(\"F1-Score: {:.4f}\".format(f1_score))"
   ]
  },
  {
   "cell_type": "code",
   "execution_count": 12,
   "metadata": {},
   "outputs": [
    {
     "name": "stdout",
     "output_type": "stream",
     "text": [
      "Accuracy: 0.9416666666666667\n",
      "Precision: 0.9473684210526315\n",
      "Recall: 0.9310344827586207\n",
      "F1 Score: 0.9391304347826087\n"
     ]
    }
   ],
   "source": [
    "# Validation from cm\n",
    "from sklearn.metrics import precision_score, recall_score, accuracy_score, f1_score\n",
    "\n",
    "# Accuracy\n",
    "accuracy = accuracy_score(y_true, y_pred)\n",
    "print(\"Accuracy:\", accuracy)\n",
    "\n",
    "#Precision\n",
    "precision = precision_score(y_true, y_pred)\n",
    "print(\"Precision:\", precision)\n",
    "\n",
    "# Recall\n",
    "recall = recall_score(y_true, y_pred)\n",
    "print(\"Recall:\", recall)\n",
    "\n",
    "# F1 Score (which you have already calculated)\n",
    "f1 = f1_score(y_true, y_pred)\n",
    "print(\"F1 Score:\", f1)"
   ]
  },
  {
   "cell_type": "code",
   "execution_count": 13,
   "metadata": {
    "colab": {
     "base_uri": "https://localhost:8080/"
    },
    "id": "rWKFcTGyki0H",
    "outputId": "5b356388-55a5-4012-e8a0-e562628ffa91"
   },
   "outputs": [
    {
     "name": "stdout",
     "output_type": "stream",
     "text": [
      "[0 0 0 0 0 0 0 0 0 0 0 0 0 0 0 0 0 0 0 0 0 0 0 0 0 0 0 0 0 0 0 0 0 0 0 0 0\n",
      " 0 0 0 0 0 0 0 0 0 0 0 0 0 0 0 0 0 0 0 0 0 0 0 0 0 0 0 0 0 0 0 0 0 0 0 0 0\n",
      " 0 0 0 0 0 0 0 0 0 0 0 0 0 0 0 0 0 0 0 0 0 0 0 0 0 0 0 0 0 0 0 0 0 0 0 0 0\n",
      " 0 0 0 0 0 0 0 0 0 0 0 0 0 1 1 1 1 1 1 1 1 1 1 1 1 1 1 1 1 1 1 1 1 1 1 1 1\n",
      " 1 1 1 1 1 1 1 1 1 1 1 1 1 1 1 1 1 1 1 1 1 1 1 1 1 1 1 1 1 1 1 1 1 1 1 1 1\n",
      " 1 1 1 1 1 1 1 1 1 1 1 1 1 1 1 1 1 1 1 1 1 1 1 1 1 1 1 1 1 1 1 1 1 1 1 1 1\n",
      " 1 1 1 1 1 1 1 1 1 1 1 1 1 1 1 1 1 1]\n",
      "[0 0 0 0 0 0 0 0 0 0 0 0 0 0 0 0 0 0 0 0 0 0 0 0 0 0 0 0 0 0 0 0 0 0 0 0 0\n",
      " 0 0 0 0 0 0 0 0 0 0 1 0 0 0 0 0 0 0 0 0 0 0 0 0 0 0 0 0 0 0 0 0 0 0 0 0 0\n",
      " 0 0 0 0 0 0 0 0 0 0 0 0 0 0 0 0 0 0 0 0 0 0 0 0 0 1 0 0 0 0 0 0 1 0 0 0 0\n",
      " 0 0 0 0 0 1 0 1 0 1 0 0 0 1 1 0 1 1 1 1 1 1 1 1 1 1 1 1 1 1 1 1 1 1 1 1 1\n",
      " 1 1 1 1 1 1 1 1 1 0 1 1 1 1 1 1 1 1 1 1 1 1 1 0 1 1 1 1 1 1 1 1 1 0 1 1 1\n",
      " 1 0 1 1 1 1 1 1 1 1 1 0 1 1 1 1 1 1 1 1 1 0 1 1 1 1 1 1 1 1 1 1 1 1 1 1 1\n",
      " 1 1 1 1 1 1 1 0 1 1 1 1 1 1 1 1 1 1]\n"
     ]
    }
   ],
   "source": [
    "print(y_true)\n",
    "print(y_pred)"
   ]
  }
 ],
 "metadata": {
  "colab": {
   "provenance": []
  },
  "kernelspec": {
   "display_name": "Capstone Project",
   "language": "python",
   "name": "cp"
  },
  "language_info": {
   "codemirror_mode": {
    "name": "ipython",
    "version": 3
   },
   "file_extension": ".py",
   "mimetype": "text/x-python",
   "name": "python",
   "nbconvert_exporter": "python",
   "pygments_lexer": "ipython3",
   "version": "3.11.3"
  }
 },
 "nbformat": 4,
 "nbformat_minor": 1
}
